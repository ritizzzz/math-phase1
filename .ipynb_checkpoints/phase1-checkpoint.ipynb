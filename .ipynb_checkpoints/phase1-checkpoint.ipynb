{
 "cells": [
  {
   "cell_type": "markdown",
   "id": "10a7c03e",
   "metadata": {},
   "source": [
    "# Predicting Diamond Prices"
   ]
  },
  {
   "cell_type": "markdown",
   "id": "7ca8e09f",
   "metadata": {},
   "source": [
    "## Phase 1: Data visualisationa and exploration"
   ]
  },
  {
   "cell_type": "markdown",
   "id": "5c599bf3",
   "metadata": {},
   "source": [
    "**Group Name:** Group 5 Demons\n",
    "<br>\n",
    "**Group members:** <br>\n",
    "Nikith Kaluwitharana - S3943409 <br>"
   ]
  },
  {
   "cell_type": "markdown",
   "id": "7e8e1e46",
   "metadata": {},
   "source": [
    "## Table of contents\n",
    "1. [Introduction](#Introduction)\n",
    "    1. [Dataset Source](#Dataset-Source)\n",
    "    2. [Dataset Details](#Dataset-Details)\n",
    "    3. [Dataset Variables](#Dataset-Variables)\n",
    "    4. [Response Variable](#Response-Variable)\n",
    "2. [Goals and Objectives](#Goals-and-Objectives)\n",
    "3. [Data Cleaning and Preprocessing](#Data-Cleaning-and-Preprocessing)\n",
    "4. [Data Exploration and Visualisation](#Data-Exploration-and-Visualisation)\n",
    "5. [Summary and Conclusions](#Summary-and-Conclusions)\n",
    "6. [References](#References)"
   ]
  },
  {
   "cell_type": "markdown",
   "id": "4c326f17",
   "metadata": {},
   "source": [
    "## Introduction"
   ]
  },
  {
   "cell_type": "markdown",
   "id": "7585046a",
   "metadata": {},
   "source": [
    "### Dataset Source\n",
    "This dataset has been sourced through the github repository of of the R library ggplot2(Wickham, 2022). The dataset showcases the prices of diamonds as data about their structures are altered."
   ]
  },
  {
   "cell_type": "markdown",
   "id": "6e68bf70",
   "metadata": {},
   "source": [
    "### Dataset Details\n",
    "The dataset contains 10 columns and 53940 rows. The dataset shows the prices of diamonds given variables such as carat, cut, color, clairty, depth, table, x, y, z and price. The null values have already been removed from the data. "
   ]
  },
  {
   "cell_type": "markdown",
   "id": "2affe16d",
   "metadata": {},
   "source": [
    "The csv has been downloaded locally on the same directory as the notebook file. The data is read using pandas read_csv method as seen below. "
   ]
  },
  {
   "cell_type": "code",
   "execution_count": 2,
   "id": "2f2803d8",
   "metadata": {},
   "outputs": [],
   "source": [
    "import pandas as pd\n",
    "pd.set_option('display.max_columns', None)\n",
    "df = pd.read_csv('diamonds.csv')"
   ]
  },
  {
   "cell_type": "code",
   "execution_count": 20,
   "id": "9f8e0f9b",
   "metadata": {},
   "outputs": [
    {
     "data": {
      "text/html": [
       "<div>\n",
       "<style scoped>\n",
       "    .dataframe tbody tr th:only-of-type {\n",
       "        vertical-align: middle;\n",
       "    }\n",
       "\n",
       "    .dataframe tbody tr th {\n",
       "        vertical-align: top;\n",
       "    }\n",
       "\n",
       "    .dataframe thead th {\n",
       "        text-align: right;\n",
       "    }\n",
       "</style>\n",
       "<table border=\"1\" class=\"dataframe\">\n",
       "  <thead>\n",
       "    <tr style=\"text-align: right;\">\n",
       "      <th></th>\n",
       "      <th>carat</th>\n",
       "      <th>cut</th>\n",
       "      <th>color</th>\n",
       "      <th>clarity</th>\n",
       "      <th>depth</th>\n",
       "      <th>table</th>\n",
       "      <th>x</th>\n",
       "      <th>y</th>\n",
       "      <th>z</th>\n",
       "      <th>price</th>\n",
       "    </tr>\n",
       "  </thead>\n",
       "  <tbody>\n",
       "    <tr>\n",
       "      <th>8018</th>\n",
       "      <td>1.01</td>\n",
       "      <td>Premium</td>\n",
       "      <td>E</td>\n",
       "      <td>SI1</td>\n",
       "      <td>61.7</td>\n",
       "      <td>56.0</td>\n",
       "      <td>6.44</td>\n",
       "      <td>6.39</td>\n",
       "      <td>3.96</td>\n",
       "      <td>4330</td>\n",
       "    </tr>\n",
       "    <tr>\n",
       "      <th>1583</th>\n",
       "      <td>0.70</td>\n",
       "      <td>Very Good</td>\n",
       "      <td>D</td>\n",
       "      <td>VS1</td>\n",
       "      <td>60.4</td>\n",
       "      <td>58.0</td>\n",
       "      <td>5.71</td>\n",
       "      <td>5.78</td>\n",
       "      <td>3.47</td>\n",
       "      <td>3008</td>\n",
       "    </tr>\n",
       "    <tr>\n",
       "      <th>9138</th>\n",
       "      <td>1.13</td>\n",
       "      <td>Very Good</td>\n",
       "      <td>H</td>\n",
       "      <td>SI2</td>\n",
       "      <td>59.8</td>\n",
       "      <td>59.0</td>\n",
       "      <td>6.75</td>\n",
       "      <td>6.82</td>\n",
       "      <td>4.06</td>\n",
       "      <td>4537</td>\n",
       "    </tr>\n",
       "    <tr>\n",
       "      <th>2787</th>\n",
       "      <td>0.76</td>\n",
       "      <td>Ideal</td>\n",
       "      <td>F</td>\n",
       "      <td>VS2</td>\n",
       "      <td>61.0</td>\n",
       "      <td>55.0</td>\n",
       "      <td>5.89</td>\n",
       "      <td>5.92</td>\n",
       "      <td>3.60</td>\n",
       "      <td>3257</td>\n",
       "    </tr>\n",
       "    <tr>\n",
       "      <th>52429</th>\n",
       "      <td>0.70</td>\n",
       "      <td>Premium</td>\n",
       "      <td>I</td>\n",
       "      <td>VVS1</td>\n",
       "      <td>61.2</td>\n",
       "      <td>59.0</td>\n",
       "      <td>5.65</td>\n",
       "      <td>5.69</td>\n",
       "      <td>3.47</td>\n",
       "      <td>2513</td>\n",
       "    </tr>\n",
       "    <tr>\n",
       "      <th>47228</th>\n",
       "      <td>0.55</td>\n",
       "      <td>Ideal</td>\n",
       "      <td>D</td>\n",
       "      <td>SI1</td>\n",
       "      <td>60.9</td>\n",
       "      <td>57.0</td>\n",
       "      <td>5.29</td>\n",
       "      <td>5.32</td>\n",
       "      <td>3.23</td>\n",
       "      <td>1840</td>\n",
       "    </tr>\n",
       "    <tr>\n",
       "      <th>13271</th>\n",
       "      <td>1.00</td>\n",
       "      <td>Fair</td>\n",
       "      <td>G</td>\n",
       "      <td>VS2</td>\n",
       "      <td>63.7</td>\n",
       "      <td>55.0</td>\n",
       "      <td>6.28</td>\n",
       "      <td>6.21</td>\n",
       "      <td>3.98</td>\n",
       "      <td>5484</td>\n",
       "    </tr>\n",
       "    <tr>\n",
       "      <th>43309</th>\n",
       "      <td>0.51</td>\n",
       "      <td>Premium</td>\n",
       "      <td>F</td>\n",
       "      <td>VS2</td>\n",
       "      <td>62.7</td>\n",
       "      <td>59.0</td>\n",
       "      <td>5.04</td>\n",
       "      <td>5.07</td>\n",
       "      <td>3.17</td>\n",
       "      <td>1402</td>\n",
       "    </tr>\n",
       "    <tr>\n",
       "      <th>5518</th>\n",
       "      <td>1.00</td>\n",
       "      <td>Good</td>\n",
       "      <td>H</td>\n",
       "      <td>SI2</td>\n",
       "      <td>63.4</td>\n",
       "      <td>61.0</td>\n",
       "      <td>6.29</td>\n",
       "      <td>6.33</td>\n",
       "      <td>4.00</td>\n",
       "      <td>3850</td>\n",
       "    </tr>\n",
       "    <tr>\n",
       "      <th>47595</th>\n",
       "      <td>0.53</td>\n",
       "      <td>Ideal</td>\n",
       "      <td>D</td>\n",
       "      <td>VS2</td>\n",
       "      <td>60.9</td>\n",
       "      <td>57.0</td>\n",
       "      <td>5.24</td>\n",
       "      <td>5.17</td>\n",
       "      <td>3.17</td>\n",
       "      <td>1877</td>\n",
       "    </tr>\n",
       "  </tbody>\n",
       "</table>\n",
       "</div>"
      ],
      "text/plain": [
       "       carat        cut color clarity  depth  table     x     y     z  price\n",
       "8018    1.01    Premium     E     SI1   61.7   56.0  6.44  6.39  3.96   4330\n",
       "1583    0.70  Very Good     D     VS1   60.4   58.0  5.71  5.78  3.47   3008\n",
       "9138    1.13  Very Good     H     SI2   59.8   59.0  6.75  6.82  4.06   4537\n",
       "2787    0.76      Ideal     F     VS2   61.0   55.0  5.89  5.92  3.60   3257\n",
       "52429   0.70    Premium     I    VVS1   61.2   59.0  5.65  5.69  3.47   2513\n",
       "47228   0.55      Ideal     D     SI1   60.9   57.0  5.29  5.32  3.23   1840\n",
       "13271   1.00       Fair     G     VS2   63.7   55.0  6.28  6.21  3.98   5484\n",
       "43309   0.51    Premium     F     VS2   62.7   59.0  5.04  5.07  3.17   1402\n",
       "5518    1.00       Good     H     SI2   63.4   61.0  6.29  6.33  4.00   3850\n",
       "47595   0.53      Ideal     D     VS2   60.9   57.0  5.24  5.17  3.17   1877"
      ]
     },
     "execution_count": 20,
     "metadata": {},
     "output_type": "execute_result"
    }
   ],
   "source": [
    "#sampling 10 random rows from the dataset\n",
    "df.sample(10, random_state=10)"
   ]
  },
  {
   "cell_type": "markdown",
   "id": "873b99b0",
   "metadata": {},
   "source": [
    "### Dataset Variables\n",
    "Description for our dataset has been shown below"
   ]
  },
  {
   "cell_type": "code",
   "execution_count": 1,
   "id": "7b73f93e",
   "metadata": {},
   "outputs": [
    {
     "data": {
      "text/html": [
       "     <table>\n",
       "        <tr>\n",
       "            <th>Column Name</th>\n",
       "            <th>Column Type</th>\n",
       "            <th>Column Unit</th>\n",
       "            <th>Column Description</th>\n",
       "        </tr>\n",
       "        <tr>\n",
       "            <th>carat</th>\n",
       "            <td>Numerical</td>\n",
       "            <td>weight in carat</td>\n",
       "            <td>weight of the diamonds in carats</td>\n",
       "        </tr>\n",
       "        <tr>\n",
       "            <th>cut</th>\n",
       "            <td>Ordinal Categorical</td>\n",
       "            <td>NA</td>\n",
       "            <td>cut quality of diamond(fair, good, very good, premium, ideal)</td>\n",
       "        </tr>\n",
       "        <tr>\n",
       "            <th>color</th>\n",
       "            <td>Ordinal Categorical</td>\n",
       "            <td>NA</td>\n",
       "            <td>diamond colour, from J (worst) to D (best)</td>\n",
       "        </tr>\n",
       "        \n",
       "        <tr>\n",
       "            <th>Clarity</th>\n",
       "            <td>Ordinal Categorical</td>\n",
       "            <td>NA</td>\n",
       "            <td>measurement of how clear the diamond is</td>\n",
       "        </tr>\n",
       "        \n",
       "        <tr>\n",
       "            <th>Depth</th>\n",
       "            <td>Numerical</td>\n",
       "            <td>NA</td>\n",
       "            <td>total depth percentage</td>\n",
       "        </tr>\n",
       "        \n",
       "        <tr>\n",
       "            <th>table</th>\n",
       "            <td>Numerical</td>\n",
       "            <td>NA</td>\n",
       "            <td>width of top of diamond relative to widest point</td>\n",
       "        </tr>\n",
       "        <tr>\n",
       "            <th>x</th>\n",
       "            <td>Numerical</td>\n",
       "            <td>mm</td>\n",
       "            <td>length in mm</td>\n",
       "        </tr>\n",
       "        <tr>\n",
       "            <th>y</th>\n",
       "            <td>Numerical</td>\n",
       "            <td>mm</td>\n",
       "            <td>width in mm</td>\n",
       "        </tr>\n",
       "        <tr>\n",
       "            <th>z</th>\n",
       "            <td>Numerical</td>\n",
       "            <td>mm</td>\n",
       "            <td>depth in mm</td>\n",
       "        </tr>\n",
       "        <tr>\n",
       "            <th>price</th>\n",
       "            <td>Numerical</td>\n",
       "            <td>$</td>\n",
       "            <td>cost of diamond</td>\n",
       "        </tr>\n",
       "        \n",
       "    </table>\n"
      ],
      "text/plain": [
       "<IPython.core.display.HTML object>"
      ]
     },
     "metadata": {},
     "output_type": "display_data"
    }
   ],
   "source": [
    "%%html\n",
    "     <table>\n",
    "        <tr>\n",
    "            <th>Column Name</th>\n",
    "            <th>Column Type</th>\n",
    "            <th>Column Unit</th>\n",
    "            <th>Column Description</th>\n",
    "        </tr>\n",
    "        <tr>\n",
    "            <th>carat</th>\n",
    "            <td>Numerical</td>\n",
    "            <td>weight in carat</td>\n",
    "            <td>weight of the diamonds in carats</td>\n",
    "        </tr>\n",
    "        <tr>\n",
    "            <th>cut</th>\n",
    "            <td>Ordinal Categorical</td>\n",
    "            <td>NA</td>\n",
    "            <td>cut quality of diamond(fair, good, very good, premium, ideal)</td>\n",
    "        </tr>\n",
    "        <tr>\n",
    "            <th>color</th>\n",
    "            <td>Ordinal Categorical</td>\n",
    "            <td>NA</td>\n",
    "            <td>diamond colour, from J (worst) to D (best)</td>\n",
    "        </tr>\n",
    "        \n",
    "        <tr>\n",
    "            <th>Clarity</th>\n",
    "            <td>Ordinal Categorical</td>\n",
    "            <td>NA</td>\n",
    "            <td>measurement of how clear the diamond is</td>\n",
    "        </tr>\n",
    "        \n",
    "        <tr>\n",
    "            <th>Depth</th>\n",
    "            <td>Numerical</td>\n",
    "            <td>NA</td>\n",
    "            <td>total depth percentage</td>\n",
    "        </tr>\n",
    "        \n",
    "        <tr>\n",
    "            <th>table</th>\n",
    "            <td>Numerical</td>\n",
    "            <td>NA</td>\n",
    "            <td>width of top of diamond relative to widest point</td>\n",
    "        </tr>\n",
    "        <tr>\n",
    "            <th>x</th>\n",
    "            <td>Numerical</td>\n",
    "            <td>mm</td>\n",
    "            <td>length in mm</td>\n",
    "        </tr>\n",
    "        <tr>\n",
    "            <th>y</th>\n",
    "            <td>Numerical</td>\n",
    "            <td>mm</td>\n",
    "            <td>width in mm</td>\n",
    "        </tr>\n",
    "        <tr>\n",
    "            <th>z</th>\n",
    "            <td>Numerical</td>\n",
    "            <td>mm</td>\n",
    "            <td>depth in mm</td>\n",
    "        </tr>\n",
    "        <tr>\n",
    "            <th>price</th>\n",
    "            <td>Numerical</td>\n",
    "            <td>$</td>\n",
    "            <td>cost of diamond</td>\n",
    "        </tr>\n",
    "        \n",
    "    </table>"
   ]
  },
  {
   "cell_type": "markdown",
   "id": "964cc061",
   "metadata": {},
   "source": [
    "### Response Variable\n",
    "The response variable of this analysis will be the price of the diamond. The value is numerical in nature and will be predicted using regression. "
   ]
  },
  {
   "cell_type": "markdown",
   "id": "d299ff9d",
   "metadata": {},
   "source": [
    "## Goals and Objectives\n",
    "Lorem ipsum dolor sit amet consectetur adipiscing elit, urna consequat felis vehicula class ultricies mollis dictumst, aenean non a in donec nulla. Phasellus ante pellentesque erat cum risus consequat imperdiet aliquam, integer placerat et turpis mi eros nec lobortis taciti, vehicula nisl litora tellus ligula porttitor metus"
   ]
  },
  {
   "cell_type": "markdown",
   "id": "e10ac148",
   "metadata": {},
   "source": [
    "## Data Cleaning and Preprocessing\n",
    "The process of removing unnessary data from the dataset"
   ]
  },
  {
   "cell_type": "markdown",
   "id": "a134c046",
   "metadata": {},
   "source": [
    "### Dataset importation"
   ]
  },
  {
   "cell_type": "code",
   "execution_count": 4,
   "id": "2d526d04",
   "metadata": {},
   "outputs": [],
   "source": [
    "import warnings\n",
    "warnings.filterwarnings(\"ignore\")\n",
    "import numpy as np\n",
    "import pandas as pd\n",
    "import io\n",
    "import requests\n",
    "\n",
    "# all columns\n",
    "pd.set_option('display.max_columns', None)\n",
    "# reading csv from github\n",
    "df = pd.read_csv('diamonds.csv')"
   ]
  },
  {
   "cell_type": "markdown",
   "id": "4d3a2d6d",
   "metadata": {},
   "source": [
    "Checking to see if the dataset loaded in without issues"
   ]
  },
  {
   "cell_type": "code",
   "execution_count": 6,
   "id": "12d18679",
   "metadata": {},
   "outputs": [
    {
     "data": {
      "text/plain": [
       "(53940, 10)"
      ]
     },
     "execution_count": 6,
     "metadata": {},
     "output_type": "execute_result"
    }
   ],
   "source": [
    "df.shape"
   ]
  },
  {
   "cell_type": "markdown",
   "id": "f05fb197",
   "metadata": {},
   "source": [
    "We will now print the names of the columns in this dataset"
   ]
  },
  {
   "cell_type": "code",
   "execution_count": 7,
   "id": "4b8f4509",
   "metadata": {},
   "outputs": [
    {
     "data": {
      "text/plain": [
       "['carat', 'cut', 'color', 'clarity', 'depth', 'table', 'x', 'y', 'z', 'price']"
      ]
     },
     "execution_count": 7,
     "metadata": {},
     "output_type": "execute_result"
    }
   ],
   "source": [
    "df.columns.to_list()"
   ]
  },
  {
   "cell_type": "markdown",
   "id": "7ed29e06",
   "metadata": {},
   "source": [
    "We will now look at 10 randomly selected rows from this dataset"
   ]
  },
  {
   "cell_type": "code",
   "execution_count": 8,
   "id": "7cd0d22d",
   "metadata": {},
   "outputs": [
    {
     "data": {
      "text/html": [
       "<div>\n",
       "<style scoped>\n",
       "    .dataframe tbody tr th:only-of-type {\n",
       "        vertical-align: middle;\n",
       "    }\n",
       "\n",
       "    .dataframe tbody tr th {\n",
       "        vertical-align: top;\n",
       "    }\n",
       "\n",
       "    .dataframe thead th {\n",
       "        text-align: right;\n",
       "    }\n",
       "</style>\n",
       "<table border=\"1\" class=\"dataframe\">\n",
       "  <thead>\n",
       "    <tr style=\"text-align: right;\">\n",
       "      <th></th>\n",
       "      <th>carat</th>\n",
       "      <th>cut</th>\n",
       "      <th>color</th>\n",
       "      <th>clarity</th>\n",
       "      <th>depth</th>\n",
       "      <th>table</th>\n",
       "      <th>x</th>\n",
       "      <th>y</th>\n",
       "      <th>z</th>\n",
       "      <th>price</th>\n",
       "    </tr>\n",
       "  </thead>\n",
       "  <tbody>\n",
       "    <tr>\n",
       "      <th>43149</th>\n",
       "      <td>0.56</td>\n",
       "      <td>Fair</td>\n",
       "      <td>E</td>\n",
       "      <td>SI2</td>\n",
       "      <td>64.5</td>\n",
       "      <td>61.0</td>\n",
       "      <td>5.18</td>\n",
       "      <td>5.14</td>\n",
       "      <td>3.33</td>\n",
       "      <td>1389</td>\n",
       "    </tr>\n",
       "    <tr>\n",
       "      <th>50113</th>\n",
       "      <td>0.51</td>\n",
       "      <td>Ideal</td>\n",
       "      <td>E</td>\n",
       "      <td>VVS2</td>\n",
       "      <td>61.7</td>\n",
       "      <td>57.0</td>\n",
       "      <td>5.11</td>\n",
       "      <td>5.14</td>\n",
       "      <td>3.16</td>\n",
       "      <td>2209</td>\n",
       "    </tr>\n",
       "    <tr>\n",
       "      <th>49263</th>\n",
       "      <td>0.70</td>\n",
       "      <td>Good</td>\n",
       "      <td>H</td>\n",
       "      <td>SI1</td>\n",
       "      <td>61.9</td>\n",
       "      <td>62.0</td>\n",
       "      <td>5.57</td>\n",
       "      <td>5.61</td>\n",
       "      <td>3.46</td>\n",
       "      <td>2088</td>\n",
       "    </tr>\n",
       "    <tr>\n",
       "      <th>9661</th>\n",
       "      <td>1.01</td>\n",
       "      <td>Ideal</td>\n",
       "      <td>H</td>\n",
       "      <td>SI1</td>\n",
       "      <td>62.4</td>\n",
       "      <td>53.0</td>\n",
       "      <td>6.47</td>\n",
       "      <td>6.42</td>\n",
       "      <td>4.02</td>\n",
       "      <td>4642</td>\n",
       "    </tr>\n",
       "    <tr>\n",
       "      <th>8500</th>\n",
       "      <td>1.12</td>\n",
       "      <td>Ideal</td>\n",
       "      <td>J</td>\n",
       "      <td>VS2</td>\n",
       "      <td>60.1</td>\n",
       "      <td>57.0</td>\n",
       "      <td>6.82</td>\n",
       "      <td>6.75</td>\n",
       "      <td>4.08</td>\n",
       "      <td>4422</td>\n",
       "    </tr>\n",
       "    <tr>\n",
       "      <th>47400</th>\n",
       "      <td>0.53</td>\n",
       "      <td>Ideal</td>\n",
       "      <td>H</td>\n",
       "      <td>VS1</td>\n",
       "      <td>60.8</td>\n",
       "      <td>57.0</td>\n",
       "      <td>5.24</td>\n",
       "      <td>5.29</td>\n",
       "      <td>3.20</td>\n",
       "      <td>1848</td>\n",
       "    </tr>\n",
       "    <tr>\n",
       "      <th>27241</th>\n",
       "      <td>1.74</td>\n",
       "      <td>Premium</td>\n",
       "      <td>G</td>\n",
       "      <td>VS2</td>\n",
       "      <td>61.0</td>\n",
       "      <td>58.0</td>\n",
       "      <td>7.77</td>\n",
       "      <td>7.75</td>\n",
       "      <td>4.73</td>\n",
       "      <td>17614</td>\n",
       "    </tr>\n",
       "    <tr>\n",
       "      <th>21447</th>\n",
       "      <td>1.11</td>\n",
       "      <td>Premium</td>\n",
       "      <td>F</td>\n",
       "      <td>VVS2</td>\n",
       "      <td>59.2</td>\n",
       "      <td>59.0</td>\n",
       "      <td>6.82</td>\n",
       "      <td>6.79</td>\n",
       "      <td>4.03</td>\n",
       "      <td>9548</td>\n",
       "    </tr>\n",
       "    <tr>\n",
       "      <th>1212</th>\n",
       "      <td>0.73</td>\n",
       "      <td>Very Good</td>\n",
       "      <td>F</td>\n",
       "      <td>VS2</td>\n",
       "      <td>62.7</td>\n",
       "      <td>58.0</td>\n",
       "      <td>5.73</td>\n",
       "      <td>5.75</td>\n",
       "      <td>3.60</td>\n",
       "      <td>2939</td>\n",
       "    </tr>\n",
       "    <tr>\n",
       "      <th>36916</th>\n",
       "      <td>0.41</td>\n",
       "      <td>Premium</td>\n",
       "      <td>G</td>\n",
       "      <td>VS1</td>\n",
       "      <td>60.2</td>\n",
       "      <td>59.0</td>\n",
       "      <td>4.84</td>\n",
       "      <td>4.79</td>\n",
       "      <td>2.90</td>\n",
       "      <td>961</td>\n",
       "    </tr>\n",
       "  </tbody>\n",
       "</table>\n",
       "</div>"
      ],
      "text/plain": [
       "       carat        cut color clarity  depth  table     x     y     z  price\n",
       "43149   0.56       Fair     E     SI2   64.5   61.0  5.18  5.14  3.33   1389\n",
       "50113   0.51      Ideal     E    VVS2   61.7   57.0  5.11  5.14  3.16   2209\n",
       "49263   0.70       Good     H     SI1   61.9   62.0  5.57  5.61  3.46   2088\n",
       "9661    1.01      Ideal     H     SI1   62.4   53.0  6.47  6.42  4.02   4642\n",
       "8500    1.12      Ideal     J     VS2   60.1   57.0  6.82  6.75  4.08   4422\n",
       "47400   0.53      Ideal     H     VS1   60.8   57.0  5.24  5.29  3.20   1848\n",
       "27241   1.74    Premium     G     VS2   61.0   58.0  7.77  7.75  4.73  17614\n",
       "21447   1.11    Premium     F    VVS2   59.2   59.0  6.82  6.79  4.03   9548\n",
       "1212    0.73  Very Good     F     VS2   62.7   58.0  5.73  5.75  3.60   2939\n",
       "36916   0.41    Premium     G     VS1   60.2   59.0  4.84  4.79  2.90    961"
      ]
     },
     "execution_count": 8,
     "metadata": {},
     "output_type": "execute_result"
    }
   ],
   "source": [
    "df.iloc[:, :].sample(n=10, random_state=8)"
   ]
  },
  {
   "cell_type": "markdown",
   "id": "f66d0e16",
   "metadata": {},
   "source": [
    "### Cleaning and Preprocessing"
   ]
  },
  {
   "cell_type": "markdown",
   "id": "19c678fb",
   "metadata": {},
   "source": [
    "No ID values to remove, removing constant features due to it being irrelevant to machine learning"
   ]
  },
  {
   "cell_type": "code",
   "execution_count": 5,
   "id": "f636ebf5",
   "metadata": {},
   "outputs": [],
   "source": [
    "df = df.loc[:, df.nunique() != 1]"
   ]
  },
  {
   "cell_type": "markdown",
   "id": "9f136806",
   "metadata": {},
   "source": [
    "Checking for missing or null values"
   ]
  },
  {
   "cell_type": "code",
   "execution_count": 9,
   "id": "3a49e94c",
   "metadata": {},
   "outputs": [
    {
     "data": {
      "text/plain": [
       "carat      0\n",
       "cut        0\n",
       "color      0\n",
       "clarity    0\n",
       "depth      0\n",
       "table      0\n",
       "x          0\n",
       "y          0\n",
       "z          0\n",
       "price      0\n",
       "dtype: int64"
      ]
     },
     "execution_count": 9,
     "metadata": {},
     "output_type": "execute_result"
    }
   ],
   "source": [
    "df.isna().sum()"
   ]
  },
  {
   "cell_type": "markdown",
   "id": "f2c3c13e",
   "metadata": {},
   "source": [
    "No missing or null values, no need to drop any rows"
   ]
  },
  {
   "cell_type": "markdown",
   "id": "d00366cb",
   "metadata": {},
   "source": [
    "## Data Exploration and Visualisation\n"
   ]
  },
  {
   "cell_type": "code",
   "execution_count": 4,
   "id": "b0186c06",
   "metadata": {},
   "outputs": [
    {
     "data": {
      "text/plain": [
       "<AxesSubplot:>"
      ]
     },
     "execution_count": 4,
     "metadata": {},
     "output_type": "execute_result"
    },
    {
     "data": {
      "image/png": "[encoded data removed]",
      "text/plain": [
       "<Figure size 640x480 with 1 Axes>"
      ]
     },
     "metadata": {},
     "output_type": "display_data"
    }
   ],
   "source": [
    "import seaborn as sns\n",
    "import matplotlib as mlt\n",
    "sns.set_theme()\n",
    "df['cut'].value_counts().plot(kind='bar')"
   ]
  },
  {
   "cell_type": "markdown",
   "id": "b818c72b",
   "metadata": {},
   "source": [
    "___"
   ]
  },
  {
   "cell_type": "markdown",
   "id": "7030ebdd",
   "metadata": {},
   "source": [
    "Visualisation of weight of diamond as box plot"
   ]
  },
  {
   "cell_type": "code",
   "execution_count": 5,
   "id": "ce80d624",
   "metadata": {},
   "outputs": [
    {
     "data": {
      "text/plain": [
       "Text(0.5, 1.0, 'Box Plot of weight of diamond')"
      ]
     },
     "execution_count": 5,
     "metadata": {},
     "output_type": "execute_result"
    },
    {
     "data": {
      "image/png": "[encoded data removed]",
      "text/plain": [
       "<Figure size 640x480 with 1 Axes>"
      ]
     },
     "metadata": {},
     "output_type": "display_data"
    }
   ],
   "source": [
    "priceData = df['carat']\n",
    "sns.boxplot(x = priceData).set_title('Box Plot of weight of diamond', fontsize = 15)"
   ]
  },
  {
   "cell_type": "markdown",
   "id": "3c1c897d",
   "metadata": {},
   "source": [
    "## Summary and Conclusions\n",
    "Lorem ipsum dolor sit amet consectetur adipiscing elit, urna consequat felis vehicula class ultricies mollis dictumst, aenean non a in donec nulla. Phasellus ante pellentesque erat cum risus consequat imperdiet aliquam, integer placerat et turpis mi eros nec lobortis taciti, vehicula nisl litora tellus ligula porttitor metus"
   ]
  },
  {
   "cell_type": "markdown",
   "id": "0cc688f3",
   "metadata": {},
   "source": [
    "## References\n",
    "Wickham, H., 2022. ggplot2/diamonds.csv at main · tidyverse/ggplot2. [online] GitHub. Available at: <https://github.com/tidyverse/ggplot2/blob/main/data-raw/diamonds.csv> [Accessed 2 October 2022]."
   ]
  }
 ],
 "metadata": {
  "kernelspec": {
   "display_name": "Python 3 (ipykernel)",
   "language": "python",
   "name": "python3"
  },
  "language_info": {
   "codemirror_mode": {
    "name": "ipython",
    "version": 3
   },
   "file_extension": ".py",
   "mimetype": "text/x-python",
   "name": "python",
   "nbconvert_exporter": "python",
   "pygments_lexer": "ipython3",
   "version": "3.8.10"
  }
 },
 "nbformat": 4,
 "nbformat_minor": 5
}
